{
 "cells": [
  {"cell_type":"markdown","metadata":{},"source":["# POC — Fast Prompting\n\nAutor: Santiago Curotto\n\nObjetivo: generar copys (texto→texto) y un prompt visual (texto→imagen) con plantilla compacta y evaluación simple."]},
  {"cell_type":"code","metadata":{},"execution_count":null,"outputs":[],"source":["import json, random, re\nprint('OK')"]},
  {"cell_type":"code","metadata":{},"execution_count":null,"outputs":[],"source":["brief = {\n  'rubro':'Gastronomía',\n  'producto':'Budines caseros de limón',\n  'publico':'Vecinos 20–45',\n  'objetivo':'Aumentar pedidos por WhatsApp',\n  'estetica':'minimalista'\n}"]},
  {"cell_type":"code","metadata":{},"execution_count":null,"outputs":[],"source":["def gen_copys(b):\n  base=[\n    f\"{b['producto']} con sabor real.\",\n    f\"{b['producto']} como en casa.\",\n    f\"{b['producto']} frescos cada día.\"\n  ]\n  outs=[]\n  for i,t in enumerate(base,1):\n    cta=random.choice(['Escribinos por WhatsApp','Pedilo ahora','Reservá hoy','Consultanos por DM'])\n    emoji=' 🍋' if 'budines' in b['producto'].lower() else ''\n    outs.append({'variante':i,'copy':f\"{t} Confianza local.{emoji} {cta}.\", 'cta':cta,'emoji_usado':bool(emoji)})\n  return outs\n\ndef gen_prompt_visual(b):\n  p=f\"{b['producto']} en primer plano, fondo liso, luz suave, paleta pastel, 1:1, estilo {b['estetica']}\"\n  return {'prompt_visual':p,'ajustes':['NightCafe: SD','Steps:30–40','CFG:6–8']}\n\ncopys=gen_copys(brief)\nprompt_img=gen_prompt_visual(brief)\n(copys,prompt_img)"]},
  {"cell_type":"code","metadata":{},"execution_count":null,"outputs":[],"source":["def score(s):\n  cta=any(w in s.lower() for w in ['whatsapp','dm','pedilo','reservá'])\n  ben=any(w in s.lower() for w in ['calidad','fresco','confianza','real'])\n  n=len(re.findall(r'\\w+',s))<=60\n  return int(cta)+int(ben)+int(n)\n\nscores=[score(c['copy']) for c in copys]\nscores"]},
  {"cell_type":"code","metadata":{},"execution_count":null,"outputs":[],"source":["# A/B: objetivo original vs cambio mínimo\nA=copys\nbriefB=dict(brief,objetivo='Maximizar clics al perfil')\nB=gen_copys(briefB)\nres={'brief':brief,'texto_texto':A,'texto_imagen':prompt_img,'ab':{'A':A,'B':B}}\nwith open('resultados_demo.json','w',encoding='utf-8') as f: json.dump(res,f,ensure_ascii=False,indent=2)\n'Guardado resultados_demo.json'"]},
  {"cell_type":"markdown","metadata":{},"source":["**Conclusión:** Plantillas cortas + variación mínima = resultados consistentes con pocas consultas. Prompt visual utilizable en NightCafe."]}
 ],
 "metadata": {
  "kernelspec": {"display_name":"Python 3","language":"python","name":"python3"},
  "language_info": {"name":"python","pygments_lexer":"ipython3"}
 },
 "nbformat": 4,
 "nbformat_minor": 5
}
